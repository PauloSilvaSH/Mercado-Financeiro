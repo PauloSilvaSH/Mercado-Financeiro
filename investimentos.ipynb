{
 "cells": [
  {
   "cell_type": "code",
   "execution_count": 1,
   "metadata": {},
   "outputs": [],
   "source": [
    "import pandas as pd\n",
    "import datetime\n",
    "import yfinance as yf\n",
    "from decimal import Decimal"
   ]
  },
  {
   "cell_type": "code",
   "execution_count": 2,
   "metadata": {},
   "outputs": [],
   "source": [
    "today = datetime.datetime.now().strftime('%Y-%m-%d')"
   ]
  },
  {
   "cell_type": "code",
   "execution_count": 3,
   "metadata": {},
   "outputs": [
    {
     "name": "stderr",
     "output_type": "stream",
     "text": [
      "[*********************100%***********************]  1 of 1 completed\n",
      "[*********************100%***********************]  1 of 1 completed\n"
     ]
    }
   ],
   "source": [
    "ibov = yf.download('^BVSP', start='2024-08-01', end=today)\n",
    "usd_brl = yf.download('BRL=X', start='2010-01-01', end=today)"
   ]
  },
  {
   "cell_type": "code",
   "execution_count": 4,
   "metadata": {},
   "outputs": [],
   "source": [
    "def consulta_bc(codigo_bcb):\n",
    "  url = 'http://api.bcb.gov.br/dados/serie/bcdata.sgs.{}/dados?formato=json'.format(codigo_bcb)\n",
    "  df = pd.read_json(url)\n",
    "  df['data'] = pd.to_datetime(df['data'], dayfirst=True)\n",
    "  df.set_index('data', inplace=True)\n",
    "  return df"
   ]
  },
  {
   "cell_type": "code",
   "execution_count": 5,
   "metadata": {},
   "outputs": [],
   "source": [
    "ipca = consulta_bc(433)\n",
    "igpm = consulta_bc(189)\n",
    "selic_meta = consulta_bc(432)\n",
    "reservas_internacionais = consulta_bc(13621)"
   ]
  },
  {
   "cell_type": "code",
   "execution_count": 6,
   "metadata": {},
   "outputs": [],
   "source": [
    "df_economicos = pd.concat([ipca, igpm, selic_meta, reservas_internacionais], axis=1)\n",
    "\n",
    "# Renomeando as colunas de forma adequada\n",
    "df_economicos.columns = ['IPCA', 'IGPM', 'SELIC Meta', 'Reservas Internacionais']\n",
    "\n",
    "# Resetando o índice para ter a coluna de 'Data'\n",
    "df_economicos.reset_index(inplace=True)\n",
    "\n",
    "# Renomeando a coluna de datas para \"Data\"\n",
    "df_economicos.rename(columns={'index': 'Data'}, inplace=True)\n",
    "\n",
    "# Substituir valores NaN por 0\n",
    "df_economicos.fillna(0, inplace=True)"
   ]
  },
  {
   "cell_type": "code",
   "execution_count": 7,
   "metadata": {},
   "outputs": [
    {
     "name": "stdout",
     "output_type": "stream",
     "text": [
      "<class 'pandas.core.frame.DataFrame'>\n",
      "RangeIndex: 9730 entries, 0 to 9729\n",
      "Data columns (total 5 columns):\n",
      " #   Column                   Non-Null Count  Dtype         \n",
      "---  ------                   --------------  -----         \n",
      " 0   data                     9730 non-null   datetime64[ns]\n",
      " 1   IPCA                     9730 non-null   float64       \n",
      " 2   IGPM                     9730 non-null   float64       \n",
      " 3   SELIC Meta               9730 non-null   float64       \n",
      " 4   Reservas Internacionais  9730 non-null   float64       \n",
      "dtypes: datetime64[ns](1), float64(4)\n",
      "memory usage: 380.2 KB\n"
     ]
    }
   ],
   "source": [
    "df_economicos .info()"
   ]
  },
  {
   "cell_type": "code",
   "execution_count": 8,
   "metadata": {},
   "outputs": [],
   "source": [
    "# Colunas que deseja converter de float para decimal\n",
    "colunas_float = ['IPCA','IGPM','SELIC Meta','Reservas Internacionais']\n",
    "\n",
    "def formatar_decimal(valor):\n",
    "    return str(valor).replace('.', ',') if valor is not None else ''\n",
    "\n",
    "# Aplicar a formatação para cada coluna de float\n",
    "for coluna in colunas_float:\n",
    "    df_economicos[coluna] = df_economicos[coluna].apply(formatar_decimal)\n"
   ]
  },
  {
   "cell_type": "code",
   "execution_count": 9,
   "metadata": {},
   "outputs": [
    {
     "data": {
      "text/html": [
       "<div>\n",
       "<style scoped>\n",
       "    .dataframe tbody tr th:only-of-type {\n",
       "        vertical-align: middle;\n",
       "    }\n",
       "\n",
       "    .dataframe tbody tr th {\n",
       "        vertical-align: top;\n",
       "    }\n",
       "\n",
       "    .dataframe thead th {\n",
       "        text-align: right;\n",
       "    }\n",
       "</style>\n",
       "<table border=\"1\" class=\"dataframe\">\n",
       "  <thead>\n",
       "    <tr style=\"text-align: right;\">\n",
       "      <th></th>\n",
       "      <th>data</th>\n",
       "      <th>IPCA</th>\n",
       "      <th>IGPM</th>\n",
       "      <th>SELIC Meta</th>\n",
       "      <th>Reservas Internacionais</th>\n",
       "    </tr>\n",
       "  </thead>\n",
       "  <tbody>\n",
       "    <tr>\n",
       "      <th>0</th>\n",
       "      <td>1980-02-01</td>\n",
       "      <td>4,62</td>\n",
       "      <td>0,0</td>\n",
       "      <td>0,0</td>\n",
       "      <td>0,0</td>\n",
       "    </tr>\n",
       "    <tr>\n",
       "      <th>1</th>\n",
       "      <td>1980-03-01</td>\n",
       "      <td>6,04</td>\n",
       "      <td>0,0</td>\n",
       "      <td>0,0</td>\n",
       "      <td>0,0</td>\n",
       "    </tr>\n",
       "    <tr>\n",
       "      <th>2</th>\n",
       "      <td>1980-04-01</td>\n",
       "      <td>5,29</td>\n",
       "      <td>0,0</td>\n",
       "      <td>0,0</td>\n",
       "      <td>0,0</td>\n",
       "    </tr>\n",
       "    <tr>\n",
       "      <th>3</th>\n",
       "      <td>1980-05-01</td>\n",
       "      <td>5,7</td>\n",
       "      <td>0,0</td>\n",
       "      <td>0,0</td>\n",
       "      <td>0,0</td>\n",
       "    </tr>\n",
       "    <tr>\n",
       "      <th>4</th>\n",
       "      <td>1980-06-01</td>\n",
       "      <td>5,31</td>\n",
       "      <td>0,0</td>\n",
       "      <td>0,0</td>\n",
       "      <td>0,0</td>\n",
       "    </tr>\n",
       "  </tbody>\n",
       "</table>\n",
       "</div>"
      ],
      "text/plain": [
       "        data  IPCA IGPM SELIC Meta Reservas Internacionais\n",
       "0 1980-02-01  4,62  0,0        0,0                     0,0\n",
       "1 1980-03-01  6,04  0,0        0,0                     0,0\n",
       "2 1980-04-01  5,29  0,0        0,0                     0,0\n",
       "3 1980-05-01   5,7  0,0        0,0                     0,0\n",
       "4 1980-06-01  5,31  0,0        0,0                     0,0"
      ]
     },
     "execution_count": 9,
     "metadata": {},
     "output_type": "execute_result"
    }
   ],
   "source": [
    "df_economicos.head()"
   ]
  },
  {
   "cell_type": "code",
   "execution_count": 10,
   "metadata": {},
   "outputs": [],
   "source": [
    "# Salvar o DataFrame em um arquivo CSV, usando vírgula como delimitador\n",
    "df_economicos.to_csv('dados_economicos.csv', sep=';', index=False, decimal=',')"
   ]
  },
  {
   "cell_type": "code",
   "execution_count": 11,
   "metadata": {},
   "outputs": [
    {
     "name": "stdout",
     "output_type": "stream",
     "text": [
      "<class 'pandas.core.frame.DataFrame'>\n",
      "RangeIndex: 9730 entries, 0 to 9729\n",
      "Data columns (total 5 columns):\n",
      " #   Column                   Non-Null Count  Dtype         \n",
      "---  ------                   --------------  -----         \n",
      " 0   data                     9730 non-null   datetime64[ns]\n",
      " 1   IPCA                     9730 non-null   object        \n",
      " 2   IGPM                     9730 non-null   object        \n",
      " 3   SELIC Meta               9730 non-null   object        \n",
      " 4   Reservas Internacionais  9730 non-null   object        \n",
      "dtypes: datetime64[ns](1), object(4)\n",
      "memory usage: 380.2+ KB\n"
     ]
    }
   ],
   "source": [
    "df_economicos.info()"
   ]
  }
 ],
 "metadata": {
  "kernelspec": {
   "display_name": "Python 3",
   "language": "python",
   "name": "python3"
  },
  "language_info": {
   "codemirror_mode": {
    "name": "ipython",
    "version": 3
   },
   "file_extension": ".py",
   "mimetype": "text/x-python",
   "name": "python",
   "nbconvert_exporter": "python",
   "pygments_lexer": "ipython3",
   "version": "3.12.7"
  }
 },
 "nbformat": 4,
 "nbformat_minor": 2
}
